{
 "cells": [
  {
   "cell_type": "code",
   "execution_count": null,
   "id": "b7cba1ae",
   "metadata": {},
   "outputs": [],
   "source": [
    "import tkinter as tk \n",
    "from tkinter import simpledialog \n",
    "from random import randint\n",
    "\n",
    "def jeux():\n",
    "\n",
    "    choix_joueurs = simpledialog.askstring(\"pierre, feuille, ciseaux\", \"choisis: pierre, feuille, ou ciseaux\")\n",
    "\n",
    "    if choix_joueurs:\n",
    "        print(\"le joueur a choisi:\", choix_joueurs)\n",
    "    else:\n",
    "        print(\"le joueur n'a pas choisi.\")\n",
    "\n",
    "\n",
    "    def computer():\n",
    "        comp_pick=random.randint(1,3)\n",
    "        if choix_pc==1:\n",
    "            return \"pierre\"\n",
    "        elif choix_pc==2:\n",
    "            return \"feuille\"\n",
    "        else:\n",
    "            return \"ciseaux\"\n",
    "print(computer)\n",
    "\n",
    "\n",
    "window = tk.Tk()\n",
    "window.title(\"Rock, Paper, Scissors game\")\n",
    "width = 800\n",
    "height = 600\n",
    "window.geometry(f\"{width}x{height}\")\n",
    "background_color = \"blue\" \n",
    "window.configure(bg=background_color)\n",
    "title_label = tk.Label(window, text=\"Habib's game\", font=(\"New York\", 24), fg=\"white\", bg=background_color)\n",
    "title_label.pack(pady=20)\n",
    "window.after(0, jeux)\n",
    "window.mainloop()\n",
    "\n"
   ]
  },
  {
   "cell_type": "code",
   "execution_count": null,
   "id": "75414f75",
   "metadata": {},
   "outputs": [],
   "source": []
  }
 ],
 "metadata": {
  "kernelspec": {
   "display_name": "Python 3 (ipykernel)",
   "language": "python",
   "name": "python3"
  },
  "language_info": {
   "codemirror_mode": {
    "name": "ipython",
    "version": 3
   },
   "file_extension": ".py",
   "mimetype": "text/x-python",
   "name": "python",
   "nbconvert_exporter": "python",
   "pygments_lexer": "ipython3",
   "version": "3.11.4"
  }
 },
 "nbformat": 4,
 "nbformat_minor": 5
}
