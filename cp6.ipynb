{
 "cells": [
  {
   "cell_type": "code",
   "execution_count": 2,
   "id": "fb214c73",
   "metadata": {},
   "outputs": [
    {
     "name": "stdout",
     "output_type": "stream",
     "text": [
      "Enter the number of students: 2\n",
      "Enter the number of subjects: 4\n",
      "Enter the mark for student {i+1} in subject {j+1}: 90\n",
      "Enter the mark for student {i+1} in subject {j+1}: 80\n",
      "Enter the mark for student {i+1} in subject {j+1}: 70\n",
      "Enter the mark for student {i+1} in subject {j+1}: 60\n",
      "Enter the mark for student {i+1} in subject {j+1}: 45\n",
      "Enter the mark for student {i+1} in subject {j+1}: 99\n",
      "Enter the mark for student {i+1} in subject {j+1}: 99\n",
      "Enter the mark for student {i+1} in subject {j+1}: 80\n",
      "Total marks for student 1: 300.0\n",
      "75.0\n",
      "B+\n",
      "Total marks for student 2: 323.0\n",
      "80.75\n",
      "A\n",
      "[[90.0, 80.0, 70.0, 60.0, 75.0, 'B+'], [45.0, 99.0, 99.0, 80.0, 80.75, 'A']]\n"
     ]
    }
   ],
   "source": [
    "import numpy as np\n",
    "\n",
    "num_students = int(input(\"Enter the number of students: \"))\n",
    "num_subjects = int(input(\"Enter the number of subjects: \"))\n",
    "\n",
    "marks_array = np.zeros((num_students, num_subjects))\n",
    "\n",
    "for i in range(num_students):\n",
    "    for j in range(num_subjects):\n",
    "        mark = float(input(\"Enter the mark for student {i+1} in subject {j+1}: \"))\n",
    "        marks_array[i, j] = mark\n",
    "\n",
    "total_marks = np.sum(marks_array, axis=1)\n",
    "marks_array = marks_array.tolist()\n",
    "for i in range(num_students):\n",
    "    print(f\"Total marks for student {i+1}: {total_marks[i]}\")\n",
    "    percentage=(total_marks[i]/(num_subjects*100))*100\n",
    "    marks_array[i].append(percentage)\n",
    "\n",
    "    print(percentage)\n",
    "    if percentage>=90:\n",
    "        marks_array[i].append(\"A+\")\n",
    "        print(\"A+\")\n",
    "    elif percentage>=80 and percentage < 90:\n",
    "        marks_array[i].append(\"A\")\n",
    "        print(\"A\")\n",
    "    elif percentage>=70 and percentage < 80:\n",
    "        marks_array[i].append(\"B+\")\n",
    "        print(\"B+\")\n",
    "    elif percentage>=60 and percentage < 70:\n",
    "        marks_array[i].append(\"B\")\n",
    "        print(\"B\")\n",
    "    elif percentage>=50 and percentage < 60:\n",
    "        marks_array[i].append(\"C\")\n",
    "        print(\"C\")\n",
    "    else:\n",
    "        marks_array[i].append(\"F\")\n",
    "        print(\"F\")\n",
    "       \n",
    "print(marks_array)"
   ]
  },
  {
   "cell_type": "code",
   "execution_count": null,
   "id": "47bc6461",
   "metadata": {},
   "outputs": [],
   "source": []
  },
  {
   "cell_type": "code",
   "execution_count": null,
   "id": "b1191c61",
   "metadata": {},
   "outputs": [],
   "source": []
  }
 ],
 "metadata": {
  "kernelspec": {
   "display_name": "Python 3 (ipykernel)",
   "language": "python",
   "name": "python3"
  },
  "language_info": {
   "codemirror_mode": {
    "name": "ipython",
    "version": 3
   },
   "file_extension": ".py",
   "mimetype": "text/x-python",
   "name": "python",
   "nbconvert_exporter": "python",
   "pygments_lexer": "ipython3",
   "version": "3.11.4"
  }
 },
 "nbformat": 4,
 "nbformat_minor": 5
}
