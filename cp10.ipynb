{
 "cells": [
  {
   "cell_type": "code",
   "execution_count": 2,
   "id": "c5b72e2f",
   "metadata": {},
   "outputs": [
    {
     "name": "stdout",
     "output_type": "stream",
     "text": [
      "False\n",
      "True\n"
     ]
    }
   ],
   "source": [
    "def binary_search(A, B):\n",
    "    l = 0\n",
    "    h = len(A) - 1\n",
    "    while l <= h:\n",
    "        mid = (l + h) // 2\n",
    "        if A[mid] == B:\n",
    "            return True\n",
    "        elif A[mid] < B:\n",
    "            l = mid + 1\n",
    "        else:\n",
    "            h = mid - 1\n",
    "    return False\n",
    "\n",
    "\n",
    "print(binary_search([1, 2, 3, 5, 8], 6))  \n",
    "print(binary_search([1, 2, 3, 5, 8], 5)) \n"
   ]
  },
  {
   "cell_type": "code",
   "execution_count": 10,
   "id": "896ac07e",
   "metadata": {},
   "outputs": [
    {
     "name": "stdout",
     "output_type": "stream",
     "text": [
      "3^4 = 81\n"
     ]
    }
   ],
   "source": [
    "def power(a, b):\n",
    "    result = a ** b\n",
    "    return result\n",
    "\n",
    "\n",
    "a = 3\n",
    "b = 4\n",
    "result = power(a, b)\n",
    "print(f\"{a}^{b} = {result}\")\n"
   ]
  },
  {
   "cell_type": "code",
   "execution_count": 7,
   "id": "1cc81253",
   "metadata": {},
   "outputs": [
    {
     "name": "stdout",
     "output_type": "stream",
     "text": [
      "[13, 22, 29, 37, 46, 49, 52, 56, 71]\n"
     ]
    }
   ],
   "source": [
    "def bubbleSort(nlist):\n",
    "    for passnum in range(len(nlist)-1,0,-1):\n",
    "        for i in range(passnum):\n",
    "            if nlist[i]>nlist[i+1]:\n",
    "                temp = nlist[i]\n",
    "                nlist[i] = nlist[i+1]\n",
    "                nlist[i+1] = temp\n",
    "    return nlist\n",
    "\n",
    "nlist = [29,13,22,37,52,49,46,71,56] \n",
    "test = bubbleSort(nlist)\n",
    "print(test)\n"
   ]
  },
  {
   "cell_type": "code",
   "execution_count": 8,
   "id": "79f1d761",
   "metadata": {},
   "outputs": [
    {
     "name": "stdout",
     "output_type": "stream",
     "text": [
      "[13, 22, 29, 37, 46, 49, 52, 56, 71]\n"
     ]
    }
   ],
   "source": [
    "def mergeSort(myList):\n",
    "    if len(myList) > 1:\n",
    "        mid = len(myList) // 2\n",
    "        left = myList[:mid]\n",
    "        right = myList[mid:]\n",
    "\n",
    "        # Recursive call on each half\n",
    "        mergeSort(left)\n",
    "        mergeSort(right)\n",
    "\n",
    "        # Two iterators for traversing the two halves\n",
    "        i = 0\n",
    "        j = 0\n",
    "        \n",
    "        # Iterator for the main list\n",
    "        k = 0\n",
    "        \n",
    "        while i < len(left) and j < len(right):\n",
    "            if left[i] < right[j]:\n",
    "              # The value from the left half has been used\n",
    "              myList[k] = left[i]\n",
    "              # Move the iterator forward\n",
    "              i += 1\n",
    "            else:\n",
    "                myList[k] = right[j]\n",
    "                j += 1\n",
    "            # Move to the next slot\n",
    "            k += 1\n",
    "\n",
    "        # For all the remaining values\n",
    "        while i < len(left):\n",
    "            myList[k] = left[i]\n",
    "            i += 1\n",
    "            k += 1\n",
    "\n",
    "        while j < len(right):\n",
    "            myList[k]=right[j]\n",
    "            j += 1\n",
    "            k += 1\n",
    "\n",
    "myList = [29,13,22,37,52,49,46,71,56]\n",
    "mergeSort(myList)\n",
    "print(myList)"
   ]
  },
  {
   "cell_type": "code",
   "execution_count": 9,
   "id": "5ec4ce53",
   "metadata": {},
   "outputs": [
    {
     "name": "stdout",
     "output_type": "stream",
     "text": [
      "[13, 22, 29, 37, 46, 49, 52, 56, 71]\n"
     ]
    }
   ],
   "source": [
    "def partition(array, start, end):\n",
    "    pivot = array[start]\n",
    "    low = start + 1\n",
    "    high = end\n",
    "    while True:\n",
    "        # If the current value we're looking at is larger than the pivot\n",
    "        # it's in the right place (right side of pivot) and we can move left,\n",
    "        # to the next element.\n",
    "        # We also need to make sure we haven't surpassed the low pointer, since that\n",
    "        # indicates we have already moved all the elements to their correct side of the pivot\n",
    "        while low <= high and array[high] >= pivot:\n",
    "            high = high - 1\n",
    "\n",
    "        # Opposite process of the one above\n",
    "        while low <= high and array[low] <= pivot:\n",
    "            low = low + 1\n",
    "\n",
    "        # We either found a value for both high and low that is out of order\n",
    "        # or low is higher than high, in which case we exit the loop\n",
    "        if low <= high:\n",
    "            array[low], array[high] = array[high], array[low]\n",
    "            # The loop continues\n",
    "        else:\n",
    "            # We exit out of the loop\n",
    "            break\n",
    "\n",
    "    array[start], array[high] = array[high], array[start]\n",
    "\n",
    "    return high\n",
    "def quick_sort(array, start, end):\n",
    "    if start >= end:\n",
    "        return\n",
    "\n",
    "    p = partition(array, start, end)\n",
    "    quick_sort(array, start, p-1)\n",
    "    quick_sort(array, p+1, end)\n",
    "array = [29,13,22,37,52,49,46,71,56]\n",
    "quick_sort(array, 0, len(array) - 1)\n",
    "print(array)"
   ]
  },
  {
   "cell_type": "code",
   "execution_count": null,
   "id": "5770ecab",
   "metadata": {},
   "outputs": [],
   "source": []
  }
 ],
 "metadata": {
  "kernelspec": {
   "display_name": "Python 3 (ipykernel)",
   "language": "python",
   "name": "python3"
  },
  "language_info": {
   "codemirror_mode": {
    "name": "ipython",
    "version": 3
   },
   "file_extension": ".py",
   "mimetype": "text/x-python",
   "name": "python",
   "nbconvert_exporter": "python",
   "pygments_lexer": "ipython3",
   "version": "3.11.4"
  }
 },
 "nbformat": 4,
 "nbformat_minor": 5
}
