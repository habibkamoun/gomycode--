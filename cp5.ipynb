{
 "cells": [
  {
   "cell_type": "code",
   "execution_count": 10,
   "id": "98985b43",
   "metadata": {},
   "outputs": [
    {
     "name": "stdout",
     "output_type": "stream",
     "text": [
      "( 1 , 2 , 3 )\n"
     ]
    }
   ],
   "source": [
    "class Point3D: \n",
    "    def __init__ (self,x,y,z):\n",
    "        self.x=x\n",
    "        self.y=y\n",
    "        self.z=z\n",
    "    def methods(self):\n",
    "        print(\"(\",self.x,\",\",self.y,\",\",self.z,\")\")\n",
    "my_point=Point3D(1,2,3)\n",
    "my_point.methods()\n",
    "    "
   ]
  },
  {
   "cell_type": "code",
   "execution_count": 13,
   "id": "e6ef1238",
   "metadata": {
    "scrolled": true
   },
   "outputs": [
    {
     "name": "stdout",
     "output_type": "stream",
     "text": [
      "12\n",
      "14\n"
     ]
    }
   ],
   "source": [
    "class Rectangle:\n",
    "    def __init__ (self,length,width):\n",
    "        self.length=length\n",
    "        self.width=width\n",
    "    def area(self):\n",
    "        print(self.length*self.width)\n",
    "    def perimeter(self):\n",
    "        print((self.length+self.width)*2)\n",
    "my_rectangle=Rectangle(4,3)\n",
    "my_rectangle.area()\n",
    "my_rectangle.perimeter()"
   ]
  },
  {
   "cell_type": "code",
   "execution_count": null,
   "id": "04e54d16",
   "metadata": {},
   "outputs": [],
   "source": []
  },
  {
   "cell_type": "code",
   "execution_count": 20,
   "id": "5e7d65f0",
   "metadata": {},
   "outputs": [
    {
     "name": "stdout",
     "output_type": "stream",
     "text": [
      "28.141592653589793\n",
      "31.41592653589793\n",
      "le point est dans le cercle\n"
     ]
    }
   ],
   "source": [
    "from math import pi\n",
    "class Circle:\n",
    "    def __init__ (self,radius,centerO):\n",
    "        self.radius=radius \n",
    "        self.centerO=centerO\n",
    "    def area(self):\n",
    "        print((self.radius)**2+pi)\n",
    "    def perimeter(self):\n",
    "        print(2*(pi*self.radius))\n",
    "    def inside(self,x,y):\n",
    "        if x<self.radius:\n",
    "            print(\"le point est dans le cercle\")\n",
    "        elif x==self.radius:\n",
    "            print(\"le point est sur le cercle\")\n",
    "        elif x>self.radius:\n",
    "            print(\"le point est en dehors du cercle\") \n",
    "        elif y<self.radius:\n",
    "            print(\"le point est dans le cercle\")\n",
    "        elif y==self.radius:\n",
    "            print(\"le point est sur le cercle\")\n",
    "        else :\n",
    "            print(\"le point est en dehors du cercle\")\n",
    "            \n",
    "my_cercle=Circle(5,0)\n",
    "my_cercle.area()\n",
    "my_cercle.perimeter()\n",
    "my_cercle.inside(2,3)\n",
    "        \n",
    "        \n",
    "        \n",
    "        \n",
    "    "
   ]
  },
  {
   "cell_type": "code",
   "execution_count": null,
   "id": "2843496a",
   "metadata": {},
   "outputs": [],
   "source": []
  },
  {
   "cell_type": "code",
   "execution_count": 32,
   "id": "3be97e7b",
   "metadata": {
    "scrolled": true
   },
   "outputs": [
    {
     "name": "stdout",
     "output_type": "stream",
     "text": [
      "300\n",
      "50\n",
      "100\n"
     ]
    }
   ],
   "source": [
    "class bank:\n",
    "    def __init__(self,balance):\n",
    "         self.balance=balance\n",
    "    def deposit(self,amount):\n",
    "        print(self.balance+amount)\n",
    "        return(self.balance+amount)\n",
    "    def withdraw(self,amount):\n",
    "        print(self.balance-amount)\n",
    "        return(self.balance-amount)\n",
    "    def balancee(self):\n",
    "        print(self.balance)\n",
    "        \n",
    "my_bank=bank(100)\n",
    "my_bank.deposit(200)\n",
    "my_bank.withdraw(50)\n",
    "my_bank.balancee()\n",
    "    \n",
    "    "
   ]
  },
  {
   "cell_type": "code",
   "execution_count": null,
   "id": "9055aa52",
   "metadata": {},
   "outputs": [],
   "source": []
  }
 ],
 "metadata": {
  "kernelspec": {
   "display_name": "Python 3 (ipykernel)",
   "language": "python",
   "name": "python3"
  },
  "language_info": {
   "codemirror_mode": {
    "name": "ipython",
    "version": 3
   },
   "file_extension": ".py",
   "mimetype": "text/x-python",
   "name": "python",
   "nbconvert_exporter": "python",
   "pygments_lexer": "ipython3",
   "version": "3.11.3"
  }
 },
 "nbformat": 4,
 "nbformat_minor": 5
}
