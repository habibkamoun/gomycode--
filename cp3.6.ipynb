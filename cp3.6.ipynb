{
 "cells": [
  {
   "cell_type": "code",
   "execution_count": 1,
   "id": "cfc19b1f",
   "metadata": {},
   "outputs": [
    {
     "name": "stdout",
     "output_type": "stream",
     "text": [
      "Ensemble après l'ajout : {0, 1, 2, 3, 4, 5, 6}\n",
      "Ensemble après suppression de 2 : {0, 1, 3, 4, 5, 6}\n",
      "Ensemble après suppression de 4 : {0, 1, 3, 5, 6}\n"
     ]
    }
   ],
   "source": [
    "mon_ensemble = {0, 1, 2, 3, 4}\n",
    "\n",
    "mon_ensemble.add(5)\n",
    "mon_ensemble.add(6)\n",
    "\n",
    "print(\"Ensemble après l'ajout :\", mon_ensemble)\n",
    "mon_ensemble.remove(2)  \n",
    "print(\"Ensemble après suppression de 2 :\", mon_ensemble)\n",
    "\n",
    "\n",
    "mon_ensemble.discard(4)\n",
    "print(\"Ensemble après suppression de 4 :\", mon_ensemble)\n"
   ]
  },
  {
   "cell_type": "code",
   "execution_count": null,
   "id": "9c6de39b",
   "metadata": {},
   "outputs": [],
   "source": []
  }
 ],
 "metadata": {
  "kernelspec": {
   "display_name": "Python 3 (ipykernel)",
   "language": "python",
   "name": "python3"
  },
  "language_info": {
   "codemirror_mode": {
    "name": "ipython",
    "version": 3
   },
   "file_extension": ".py",
   "mimetype": "text/x-python",
   "name": "python",
   "nbconvert_exporter": "python",
   "pygments_lexer": "ipython3",
   "version": "3.11.3"
  }
 },
 "nbformat": 4,
 "nbformat_minor": 5
}
