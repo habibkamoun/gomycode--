{
 "cells": [
  {
   "cell_type": "code",
   "execution_count": 12,
   "id": "44987941",
   "metadata": {},
   "outputs": [
    {
     "name": "stdout",
     "output_type": "stream",
     "text": [
      "Entrez le premier nombre : 100\n",
      "Entrez le deuxième nombre : 50\n",
      "Le résultat du calcul est : 150.0\n"
     ]
    }
   ],
   "source": [
    "def calculator():\n",
    "    num1 = float(input(\"Entrez le premier nombre : \"))\n",
    "    num2 = float(input(\"Entrez le deuxième nombre : \"))\n",
    "    result = num1 + num2\n",
    "    return result\n",
    "resultat_calcul = calculator()\n",
    "print(\"Le résultat du calcul est :\", resultat_calcul)\n"
   ]
  },
  {
   "cell_type": "code",
   "execution_count": null,
   "id": "789bc831",
   "metadata": {},
   "outputs": [],
   "source": []
  },
  {
   "cell_type": "code",
   "execution_count": null,
   "id": "6960b031",
   "metadata": {},
   "outputs": [],
   "source": []
  }
 ],
 "metadata": {
  "kernelspec": {
   "display_name": "Python 3 (ipykernel)",
   "language": "python",
   "name": "python3"
  },
  "language_info": {
   "codemirror_mode": {
    "name": "ipython",
    "version": 3
   },
   "file_extension": ".py",
   "mimetype": "text/x-python",
   "name": "python",
   "nbconvert_exporter": "python",
   "pygments_lexer": "ipython3",
   "version": "3.11.3"
  }
 },
 "nbformat": 4,
 "nbformat_minor": 5
}
