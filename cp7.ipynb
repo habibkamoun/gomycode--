{
 "cells": [
  {
   "cell_type": "code",
   "execution_count": 55,
   "id": "457c215b",
   "metadata": {},
   "outputs": [
    {
     "name": "stdout",
     "output_type": "stream",
     "text": [
      "First three rows of the data frame:\n",
      "        name  score  attempts qualify\n",
      "a  Anastasia   12.5         1     yes\n",
      "b       Dima    9.0         3      no\n",
      "c  Katherine   16.5         2     yes\n",
      "\n",
      "DataFrame after removing the 'attempts' column:\n",
      "        name  score qualify\n",
      "a  Anastasia   12.5     yes\n",
      "b       Dima    9.0      no\n",
      "c  Katherine   16.5     yes\n",
      "e      Emily    9.0      no\n",
      "f    Michael   20.0     yes\n",
      "g    Matthew   14.5     yes\n",
      "i      Kevin    8.0      no\n",
      "j      Jonas   19.0     yes\n",
      "k     Suresh   15.5     yes\n",
      "        name  score qualify Success\n",
      "a  Anastasia   12.5     yes       1\n",
      "b       Dima    9.0      no       0\n",
      "c  Katherine   16.5     yes       1\n",
      "e      Emily    9.0      no       0\n",
      "f    Michael   20.0     yes       1\n",
      "g    Matthew   14.5     yes       1\n",
      "i      Kevin    8.0      no       0\n",
      "j      Jonas   19.0     yes       1\n",
      "k     Suresh   15.5     yes       1\n",
      "        name  score qualify Success\n",
      "a  Anastasia   12.5     yes       1\n",
      "b       Dima    9.0      no       0\n",
      "c  Katherine   16.5     yes       1\n",
      "e      Emily    9.0      no       0\n",
      "f    Michael   20.0     yes       1\n"
     ]
    }
   ],
   "source": [
    "import pandas as pd\n",
    "import numpy as np\n",
    "\n",
    "exam_data = {\n",
    "    'name': ['Anastasia', 'Dima', 'Katherine', 'James', 'Emily', 'Michael', 'Matthew', 'Laura', 'Kevin', 'Jonas'],\n",
    "    'score': [12.5, 9, 16.5, np.nan, 9, 20, 14.5, np.nan, 8, 19],\n",
    "    'attempts': [1, 3, 2, 3, 2, 3, 1, 1, 2, 1],\n",
    "    'qualify': ['yes', 'no', 'yes', 'no', 'no', 'yes', 'yes', 'no', 'no', 'yes']}\n",
    "\n",
    "labels = ['a', 'b', 'c', 'd', 'e', 'f', 'g', 'h', 'i', 'j']\n",
    "df = pd.DataFrame(exam_data, index=labels)\n",
    "print(\"First three rows of the data frame:\")\n",
    "print(df.iloc[:3])\n",
    "df = df.dropna()\n",
    "k = {'name': [\"Suresh\"], 'score': [15.5], 'attempts': [1], 'qualify': [\"yes\"]}\n",
    "k = pd.DataFrame(k, index=['k'])\n",
    "df = pd.concat([df, k])\n",
    "df = df.drop('attempts', axis=1)\n",
    "print(\"\\nDataFrame after removing the 'attempts' column:\")\n",
    "print(df)\n",
    "def determine_success(score):\n",
    "    if score >= 10:\n",
    "        return '1'\n",
    "    else:\n",
    "        return '0'\n",
    "\n",
    "df['Success'] = df['score'].apply(determine_success)\n",
    "print(df)\n",
    "df.to_csv('data.csv', index=False)\n",
    "print(df.head())\n"
   ]
  },
  {
   "cell_type": "code",
   "execution_count": null,
   "id": "d209f5d7",
   "metadata": {},
   "outputs": [],
   "source": []
  },
  {
   "cell_type": "code",
   "execution_count": null,
   "id": "7b3347cd",
   "metadata": {},
   "outputs": [],
   "source": []
  }
 ],
 "metadata": {
  "kernelspec": {
   "display_name": "Python 3 (ipykernel)",
   "language": "python",
   "name": "python3"
  },
  "language_info": {
   "codemirror_mode": {
    "name": "ipython",
    "version": 3
   },
   "file_extension": ".py",
   "mimetype": "text/x-python",
   "name": "python",
   "nbconvert_exporter": "python",
   "pygments_lexer": "ipython3",
   "version": "3.11.4"
  }
 },
 "nbformat": 4,
 "nbformat_minor": 5
}
